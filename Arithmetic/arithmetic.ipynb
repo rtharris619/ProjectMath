{
 "cells": [
  {
   "cell_type": "code",
   "execution_count": null,
   "metadata": {},
   "outputs": [],
   "source": [
    "from IPython.display import display, Math"
   ]
  },
  {
   "cell_type": "code",
   "execution_count": 14,
   "metadata": {},
   "outputs": [
    {
     "data": {
      "text/latex": [
       "$\\displaystyle 4+3=7$"
      ],
      "text/plain": [
       "<IPython.core.display.Math object>"
      ]
     },
     "metadata": {},
     "output_type": "display_data"
    }
   ],
   "source": [
    "display(Math('4+3=7'))"
   ]
  },
  {
   "cell_type": "code",
   "execution_count": 15,
   "metadata": {},
   "outputs": [
    {
     "data": {
      "text/latex": [
       "$\\displaystyle 4+5 = 9$"
      ],
      "text/plain": [
       "<IPython.core.display.Math object>"
      ]
     },
     "metadata": {},
     "output_type": "display_data"
    }
   ],
   "source": [
    "x = 4\n",
    "y = 5\n",
    "display(Math('%g+%g = %g' %(x,y,x+y)))"
   ]
  },
  {
   "cell_type": "code",
   "execution_count": 3,
   "metadata": {},
   "outputs": [
    {
     "data": {
      "text/latex": [
       "$\\displaystyle \\frac{4}{5} = .8$"
      ],
      "text/plain": [
       "<IPython.core.display.Math object>"
      ]
     },
     "metadata": {},
     "output_type": "display_data"
    }
   ],
   "source": [
    "# LaTeX (laytech) coding\n",
    "display(Math('\\\\frac{4}{5} = .8'))"
   ]
  },
  {
   "cell_type": "code",
   "execution_count": 2,
   "metadata": {},
   "outputs": [
    {
     "data": {
      "text/latex": [
       "$\\displaystyle 3.4 \\times 17 = 57.8$"
      ],
      "text/plain": [
       "<IPython.core.display.Math object>"
      ]
     },
     "metadata": {},
     "output_type": "display_data"
    }
   ],
   "source": [
    "x = 3.4\n",
    "y = 17\n",
    "display(Math('%g \\\\times %g = %g' %(x,y,x*y)))"
   ]
  },
  {
   "cell_type": "code",
   "execution_count": 17,
   "metadata": {},
   "outputs": [
    {
     "data": {
      "text/latex": [
       "$\\displaystyle 3x(4 + y) = 42$"
      ],
      "text/plain": [
       "<IPython.core.display.Math object>"
      ]
     },
     "metadata": {},
     "output_type": "display_data"
    },
    {
     "data": {
      "text/latex": [
       "$\\displaystyle 3 \\times 7 (4 + -2) = 42$"
      ],
      "text/plain": [
       "<IPython.core.display.Math object>"
      ]
     },
     "metadata": {},
     "output_type": "display_data"
    },
    {
     "data": {
      "text/latex": [
       "$\\displaystyle -y - \\frac{x + 3}{z} = 2$"
      ],
      "text/plain": [
       "<IPython.core.display.Math object>"
      ]
     },
     "metadata": {},
     "output_type": "display_data"
    },
    {
     "data": {
      "text/latex": [
       "$\\displaystyle --2 - \\frac{7 + 3}{5} = 0$"
      ],
      "text/plain": [
       "<IPython.core.display.Math object>"
      ]
     },
     "metadata": {},
     "output_type": "display_data"
    }
   ],
   "source": [
    "x = 7\n",
    "y = -2\n",
    "z = 5\n",
    "\n",
    "ans = 3 * x * (4 + y)\n",
    "display(Math('3x(4 + y) = %g' %ans))\n",
    "display(Math('3 \\\\times %g (4 + %g) = %g' %(x, y, ans)))\n",
    "\n",
    "ans = (x + 3) / z\n",
    "display(Math('-y - \\\\frac{x + 3}{z} = %g' %ans))\n",
    "display(Math('-%g - \\\\frac{%g + 3}{%g} = %g' %(y, x, z, -y - ans)))"
   ]
  },
  {
   "cell_type": "code",
   "execution_count": 4,
   "metadata": {},
   "outputs": [
    {
     "data": {
      "text/latex": [
       "$\\displaystyle 3^2 \\times 3^4 = 3^{2+4}$"
      ],
      "text/plain": [
       "<IPython.core.display.Math object>"
      ]
     },
     "metadata": {},
     "output_type": "display_data"
    }
   ],
   "source": [
    "display(Math('3^2 \\\\times 3^4 = 3^{2+4}'))"
   ]
  },
  {
   "cell_type": "code",
   "execution_count": 13,
   "metadata": {},
   "outputs": [
    {
     "data": {
      "text/latex": [
       "$\\displaystyle x^{3/4} \\times 4^y = 3933.09$"
      ],
      "text/plain": [
       "<IPython.core.display.Math object>"
      ]
     },
     "metadata": {},
     "output_type": "display_data"
    },
    {
     "data": {
      "text/latex": [
       "$\\displaystyle 5^{3/4} \\times 4^{5.1} = 3933.09$"
      ],
      "text/plain": [
       "<IPython.core.display.Math object>"
      ]
     },
     "metadata": {},
     "output_type": "display_data"
    },
    {
     "data": {
      "text/latex": [
       "$\\displaystyle \\frac{3^3}{x^y} = 0.00735558$"
      ],
      "text/plain": [
       "<IPython.core.display.Math object>"
      ]
     },
     "metadata": {},
     "output_type": "display_data"
    },
    {
     "data": {
      "text/latex": [
       "$\\displaystyle \\frac{3^3}{5^{5.1}} = 0.00735558$"
      ],
      "text/plain": [
       "<IPython.core.display.Math object>"
      ]
     },
     "metadata": {},
     "output_type": "display_data"
    },
    {
     "data": {
      "text/latex": [
       "$\\displaystyle 10^{x-4} = 10$"
      ],
      "text/plain": [
       "<IPython.core.display.Math object>"
      ]
     },
     "metadata": {},
     "output_type": "display_data"
    },
    {
     "data": {
      "text/latex": [
       "$\\displaystyle 10^{5-4} = 10$"
      ],
      "text/plain": [
       "<IPython.core.display.Math object>"
      ]
     },
     "metadata": {},
     "output_type": "display_data"
    }
   ],
   "source": [
    "x = 5\n",
    "y = 5.1\n",
    "\n",
    "ans = x ** (3/4) * 4**y\n",
    "display(Math('x^{3/4} \\\\times 4^y = %g' %ans))\n",
    "display(Math('%g^{3/4} \\\\times 4^{%g} = %g' %(x, y, ans)))\n",
    "\n",
    "ans = 3**3 / x**y\n",
    "display(Math('\\\\frac{3^3}{x^y} = %g' %ans))\n",
    "display(Math('\\\\frac{3^3}{%g^{%g}} = %g' %(x, y, ans)))\n",
    "\n",
    "ans = 10**(x-4)\n",
    "display(Math('10^{x-4} = %g' %ans))\n",
    "display(Math('10^{%g-4} = %g' %(x, ans)))"
   ]
  },
  {
   "cell_type": "code",
   "execution_count": 19,
   "metadata": {},
   "outputs": [
    {
     "name": "stdout",
     "output_type": "stream",
     "text": [
      "3 to the power of 0 is 1\n",
      "3 to the power of 1 is 3\n",
      "3 to the power of 2 is 9\n",
      "3 to the power of 3 is 27\n",
      "3 to the power of 4 is 81\n",
      "3 to the power of 5 is 243\n",
      "3 to the power of 6 is 729\n",
      "3 to the power of 7 is 2187\n",
      "3 to the power of 8 is 6561\n",
      "3 to the power of 9 is 19683\n"
     ]
    }
   ],
   "source": [
    "base = 3\n",
    "for i in range(0, 10):\n",
    "  num = base ** i\n",
    "  print('%g to the power of %g is %g' %(base, i, num))"
   ]
  }
 ],
 "metadata": {
  "kernelspec": {
   "display_name": ".venv",
   "language": "python",
   "name": "python3"
  },
  "language_info": {
   "codemirror_mode": {
    "name": "ipython",
    "version": 3
   },
   "file_extension": ".py",
   "mimetype": "text/x-python",
   "name": "python",
   "nbconvert_exporter": "python",
   "pygments_lexer": "ipython3",
   "version": "3.11.0"
  }
 },
 "nbformat": 4,
 "nbformat_minor": 2
}
