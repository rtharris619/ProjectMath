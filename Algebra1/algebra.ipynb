{
 "cells": [
  {
   "cell_type": "code",
   "execution_count": 1,
   "metadata": {},
   "outputs": [],
   "source": [
    "import sympy as sym\n",
    "from IPython.display import display, Math\n",
    "import numpy as np\n",
    "import math"
   ]
  },
  {
   "cell_type": "code",
   "execution_count": 2,
   "metadata": {},
   "outputs": [
    {
     "data": {
      "text/latex": [
       "$\\displaystyle \\text{The solution to } 2 x - 5 \\text{ is x=} 2.5$"
      ],
      "text/plain": [
       "<IPython.core.display.Math object>"
      ]
     },
     "metadata": {},
     "output_type": "display_data"
    }
   ],
   "source": [
    "x = sym.symbols('x')\n",
    "expr = 2*x + 4 - 9\n",
    "ans = sym.solve(expr)\n",
    "\n",
    "display(Math('\\\\text{The solution to } %s \\\\text{ is x=} %g' %(sym.latex(expr), ans[0])))"
   ]
  },
  {
   "cell_type": "code",
   "execution_count": 3,
   "metadata": {},
   "outputs": [
    {
     "data": {
      "text/plain": [
       "[-2, 2]"
      ]
     },
     "execution_count": 3,
     "metadata": {},
     "output_type": "execute_result"
    }
   ],
   "source": [
    "sym.solve(x**2 - 4)"
   ]
  },
  {
   "cell_type": "code",
   "execution_count": 4,
   "metadata": {},
   "outputs": [
    {
     "data": {
      "text/plain": [
       "[20/(4*y - 1)]"
      ]
     },
     "metadata": {},
     "output_type": "display_data"
    },
    {
     "data": {
      "text/plain": [
       "[(x + 20)/(4*x)]"
      ]
     },
     "metadata": {},
     "output_type": "display_data"
    }
   ],
   "source": [
    "y = sym.symbols('y')\n",
    "expr = x/4 - x*y + 5\n",
    "display(sym.solve(expr,x))\n",
    "display(sym.solve(expr,y))"
   ]
  },
  {
   "cell_type": "code",
   "execution_count": 5,
   "metadata": {},
   "outputs": [
    {
     "data": {
      "text/latex": [
       "$\\displaystyle 3 q + 3 + \\frac{4}{q} = 5 q + 1 + \\frac{1}{q}$"
      ],
      "text/plain": [
       "<IPython.core.display.Math object>"
      ]
     },
     "metadata": {},
     "output_type": "display_data"
    },
    {
     "data": {
      "text/latex": [
       "$\\displaystyle - 2 q + 2 + \\frac{3}{q}$"
      ],
      "text/plain": [
       "-2*q + 2 + 3/q"
      ]
     },
     "metadata": {},
     "output_type": "display_data"
    },
    {
     "data": {
      "text/latex": [
       "$\\displaystyle q=\\left[ \\frac{1}{2} - \\frac{\\sqrt{7}}{2}, \\  \\frac{1}{2} + \\frac{\\sqrt{7}}{2}\\right]$"
      ],
      "text/plain": [
       "<IPython.core.display.Math object>"
      ]
     },
     "metadata": {},
     "output_type": "display_data"
    }
   ],
   "source": [
    "q = sym.symbols('q')\n",
    "lhs = 3*q + 4/q + 3\n",
    "rhs = 5*q + 1/q + 1\n",
    "expr = 3*q + 4/q + 3 - 5*q - 1/q - 1\n",
    "\n",
    "display(Math('%s = %s' %(sym.latex(lhs), sym.latex(rhs))))\n",
    "\n",
    "display(sym.simplify(expr))\n",
    "\n",
    "display(Math('q=' + sym.latex(sym.solve(expr))))"
   ]
  },
  {
   "cell_type": "code",
   "execution_count": 6,
   "metadata": {},
   "outputs": [
    {
     "data": {
      "text/latex": [
       "$\\displaystyle 3 q^{2} + 2 q - \\frac{5}{q} - \\frac{4}{q^{3}}$"
      ],
      "text/plain": [
       "<IPython.core.display.Math object>"
      ]
     },
     "metadata": {},
     "output_type": "display_data"
    },
    {
     "data": {
      "text/latex": [
       "$\\displaystyle 3 q^{2} + 2 q - \\frac{5}{q} - \\frac{4}{q^{3}}$"
      ],
      "text/plain": [
       "<IPython.core.display.Math object>"
      ]
     },
     "metadata": {},
     "output_type": "display_data"
    },
    {
     "data": {
      "text/latex": [
       "$\\displaystyle \\frac{3 q^{5} + 2 q^{4} - 5 q^{2} - 4}{q^{3}}$"
      ],
      "text/plain": [
       "<IPython.core.display.Math object>"
      ]
     },
     "metadata": {},
     "output_type": "display_data"
    }
   ],
   "source": [
    "q = sym.symbols('q')\n",
    "expr = 2*q + 3*q**2 - 5/q - 4/q**3\n",
    "\n",
    "display(Math(sym.latex(expr)))\n",
    "\n",
    "display(Math(sym.latex(sym.simplify(expr))))\n",
    "\n",
    "display(Math(sym.latex(sym.cancel(expr))))\n"
   ]
  },
  {
   "cell_type": "code",
   "execution_count": 7,
   "metadata": {},
   "outputs": [
    {
     "data": {
      "text/latex": [
       "$\\displaystyle \\frac{\\sqrt{15} q + \\sqrt{3}}{\\sqrt{10} q + \\sqrt{2}}$"
      ],
      "text/plain": [
       "<IPython.core.display.Math object>"
      ]
     },
     "metadata": {},
     "output_type": "display_data"
    },
    {
     "data": {
      "text/latex": [
       "$\\displaystyle \\frac{\\sqrt{6}}{2}$"
      ],
      "text/plain": [
       "<IPython.core.display.Math object>"
      ]
     },
     "metadata": {},
     "output_type": "display_data"
    },
    {
     "data": {
      "text/latex": [
       "$\\displaystyle 1.22474487139159$"
      ],
      "text/plain": [
       "1.22474487139159"
      ]
     },
     "execution_count": 7,
     "metadata": {},
     "output_type": "execute_result"
    }
   ],
   "source": [
    "expr = (sym.sqrt(3) + sym.sqrt(15) * q) / (sym.sqrt(2) + sym.sqrt(10) * q)\n",
    "display(Math(sym.latex(expr)))\n",
    "display(Math(sym.latex(sym.simplify(expr))))\n",
    "\n",
    "expr.subs(q,10).evalf()"
   ]
  },
  {
   "cell_type": "code",
   "execution_count": 8,
   "metadata": {},
   "outputs": [
    {
     "data": {
      "text/latex": [
       "$\\displaystyle x \\left(4 x + 5\\right)$"
      ],
      "text/plain": [
       "x*(4*x + 5)"
      ]
     },
     "metadata": {},
     "output_type": "display_data"
    },
    {
     "data": {
      "text/latex": [
       "$\\displaystyle 4 x^{2} + 5 x$"
      ],
      "text/plain": [
       "<IPython.core.display.Math object>"
      ]
     },
     "metadata": {},
     "output_type": "display_data"
    },
    {
     "data": {
      "text/latex": [
       "$\\displaystyle \\left(x - 7\\right) \\left(4 x + 5\\right)$"
      ],
      "text/plain": [
       "<IPython.core.display.Math object>"
      ]
     },
     "metadata": {},
     "output_type": "display_data"
    },
    {
     "data": {
      "text/latex": [
       "$\\displaystyle 4 x^{2} - 23 x - 35$"
      ],
      "text/plain": [
       "<IPython.core.display.Math object>"
      ]
     },
     "metadata": {},
     "output_type": "display_data"
    }
   ],
   "source": [
    "from sympy.abc import x\n",
    "term1 = (4*x + 5)\n",
    "term2 = x\n",
    "display(term1*term2)\n",
    "display(Math(sym.latex(sym.expand(term1*term2))))\n",
    "term3 = x - 7\n",
    "display(Math(sym.latex(term1*term3)))\n",
    "display(Math(sym.latex(sym.expand(term1*term3))))"
   ]
  },
  {
   "cell_type": "code",
   "execution_count": 9,
   "metadata": {},
   "outputs": [
    {
     "data": {
      "text/latex": [
       "$\\displaystyle x \\left(- \\frac{5^{x}}{x} + 2 y^{2}\\right)$"
      ],
      "text/plain": [
       "<IPython.core.display.Math object>"
      ]
     },
     "metadata": {},
     "output_type": "display_data"
    },
    {
     "data": {
      "text/latex": [
       "$\\displaystyle - 5^{x} + 2 x y^{2}$"
      ],
      "text/plain": [
       "<IPython.core.display.Math object>"
      ]
     },
     "metadata": {},
     "output_type": "display_data"
    }
   ],
   "source": [
    "expr = x*(2*y**2 - 5**x/x)\n",
    "display(Math(sym.latex(expr)))\n",
    "display(Math(sym.latex(sym.expand(expr))))"
   ]
  },
  {
   "cell_type": "code",
   "execution_count": 10,
   "metadata": {},
   "outputs": [
    {
     "data": {
      "text/latex": [
       "$\\displaystyle \\text{When x=}0 \\text{ and y=}0 \\text{, f(x,y)=}8$"
      ],
      "text/plain": [
       "<IPython.core.display.Math object>"
      ]
     },
     "metadata": {},
     "output_type": "display_data"
    },
    {
     "data": {
      "text/latex": [
       "$\\displaystyle \\text{When x=}0 \\text{ and y=}1 \\text{, f(x,y)=}4$"
      ],
      "text/plain": [
       "<IPython.core.display.Math object>"
      ]
     },
     "metadata": {},
     "output_type": "display_data"
    },
    {
     "data": {
      "text/latex": [
       "$\\displaystyle \\text{When x=}0 \\text{ and y=}2 \\text{, f(x,y)=}0$"
      ],
      "text/plain": [
       "<IPython.core.display.Math object>"
      ]
     },
     "metadata": {},
     "output_type": "display_data"
    },
    {
     "data": {
      "text/latex": [
       "$\\displaystyle \\text{When x=}1 \\text{ and y=}0 \\text{, f(x,y)=}10$"
      ],
      "text/plain": [
       "<IPython.core.display.Math object>"
      ]
     },
     "metadata": {},
     "output_type": "display_data"
    },
    {
     "data": {
      "text/latex": [
       "$\\displaystyle \\text{When x=}1 \\text{ and y=}1 \\text{, f(x,y)=}5$"
      ],
      "text/plain": [
       "<IPython.core.display.Math object>"
      ]
     },
     "metadata": {},
     "output_type": "display_data"
    },
    {
     "data": {
      "text/latex": [
       "$\\displaystyle \\text{When x=}1 \\text{ and y=}2 \\text{, f(x,y)=}0$"
      ],
      "text/plain": [
       "<IPython.core.display.Math object>"
      ]
     },
     "metadata": {},
     "output_type": "display_data"
    },
    {
     "data": {
      "text/latex": [
       "$\\displaystyle \\text{When x=}2 \\text{ and y=}0 \\text{, f(x,y)=}12$"
      ],
      "text/plain": [
       "<IPython.core.display.Math object>"
      ]
     },
     "metadata": {},
     "output_type": "display_data"
    },
    {
     "data": {
      "text/latex": [
       "$\\displaystyle \\text{When x=}2 \\text{ and y=}1 \\text{, f(x,y)=}6$"
      ],
      "text/plain": [
       "<IPython.core.display.Math object>"
      ]
     },
     "metadata": {},
     "output_type": "display_data"
    },
    {
     "data": {
      "text/latex": [
       "$\\displaystyle \\text{When x=}2 \\text{ and y=}2 \\text{, f(x,y)=}0$"
      ],
      "text/plain": [
       "<IPython.core.display.Math object>"
      ]
     },
     "metadata": {},
     "output_type": "display_data"
    }
   ],
   "source": [
    "expr = (4 + x)*(2 - y)\n",
    "\n",
    "for i in range(0,3):\n",
    "  for j in range(0,3):\n",
    "    result = int(expr.subs(x,i).subs(y,j).evalf())\n",
    "    display(Math('\\\\text{When x=}%g \\\\text{ and y=}%g \\\\text{, f(x,y)=}%g' %(i, j, result)))"
   ]
  },
  {
   "cell_type": "code",
   "execution_count": 11,
   "metadata": {},
   "outputs": [
    {
     "data": {
      "text/latex": [
       "$\\displaystyle \\text{When x=}0 \\text{ and y=}0 \\text{, f(x,y)=}8$"
      ],
      "text/plain": [
       "<IPython.core.display.Math object>"
      ]
     },
     "metadata": {},
     "output_type": "display_data"
    },
    {
     "data": {
      "text/latex": [
       "$\\displaystyle \\text{When x=}0 \\text{ and y=}1 \\text{, f(x,y)=}4$"
      ],
      "text/plain": [
       "<IPython.core.display.Math object>"
      ]
     },
     "metadata": {},
     "output_type": "display_data"
    },
    {
     "data": {
      "text/latex": [
       "$\\displaystyle \\text{When x=}0 \\text{ and y=}2 \\text{, f(x,y)=}0$"
      ],
      "text/plain": [
       "<IPython.core.display.Math object>"
      ]
     },
     "metadata": {},
     "output_type": "display_data"
    },
    {
     "data": {
      "text/latex": [
       "$\\displaystyle \\text{When x=}1 \\text{ and y=}0 \\text{, f(x,y)=}10$"
      ],
      "text/plain": [
       "<IPython.core.display.Math object>"
      ]
     },
     "metadata": {},
     "output_type": "display_data"
    },
    {
     "data": {
      "text/latex": [
       "$\\displaystyle \\text{When x=}1 \\text{ and y=}1 \\text{, f(x,y)=}5$"
      ],
      "text/plain": [
       "<IPython.core.display.Math object>"
      ]
     },
     "metadata": {},
     "output_type": "display_data"
    },
    {
     "data": {
      "text/latex": [
       "$\\displaystyle \\text{When x=}1 \\text{ and y=}2 \\text{, f(x,y)=}0$"
      ],
      "text/plain": [
       "<IPython.core.display.Math object>"
      ]
     },
     "metadata": {},
     "output_type": "display_data"
    },
    {
     "data": {
      "text/latex": [
       "$\\displaystyle \\text{When x=}2 \\text{ and y=}0 \\text{, f(x,y)=}12$"
      ],
      "text/plain": [
       "<IPython.core.display.Math object>"
      ]
     },
     "metadata": {},
     "output_type": "display_data"
    },
    {
     "data": {
      "text/latex": [
       "$\\displaystyle \\text{When x=}2 \\text{ and y=}1 \\text{, f(x,y)=}6$"
      ],
      "text/plain": [
       "<IPython.core.display.Math object>"
      ]
     },
     "metadata": {},
     "output_type": "display_data"
    },
    {
     "data": {
      "text/latex": [
       "$\\displaystyle \\text{When x=}2 \\text{ and y=}2 \\text{, f(x,y)=}0$"
      ],
      "text/plain": [
       "<IPython.core.display.Math object>"
      ]
     },
     "metadata": {},
     "output_type": "display_data"
    }
   ],
   "source": [
    "expr = (4 + x)*(2 - y)\n",
    "num_range = range(0,3)\n",
    "\n",
    "for xi in num_range:\n",
    "  for yi in num_range:\n",
    "    display(Math('\\\\text{When x=}%g \\\\text{ and y=}%g \\\\text{, f(x,y)=}%g' %(xi, yi, expr.subs({x:xi, y:yi}))))"
   ]
  },
  {
   "cell_type": "code",
   "execution_count": 12,
   "metadata": {},
   "outputs": [
    {
     "data": {
      "text/latex": [
       "$\\displaystyle \\left[\\begin{matrix}1 & 2\\\\3 & 4\\end{matrix}\\right]$"
      ],
      "text/plain": [
       "<IPython.core.display.Math object>"
      ]
     },
     "metadata": {},
     "output_type": "display_data"
    }
   ],
   "source": [
    "A = np.array([[1,2],[3,4]])\n",
    "display(Math(sym.latex(sym.sympify(A))))"
   ]
  },
  {
   "cell_type": "markdown",
   "metadata": {},
   "source": [
    "### Checkerboard:"
   ]
  },
  {
   "cell_type": "code",
   "execution_count": 13,
   "metadata": {},
   "outputs": [
    {
     "data": {
      "text/latex": [
       "$\\displaystyle \\left[\\begin{matrix}1.0 & -1.0 & 1.0 & -1.0 & 1.0 & -1.0\\\\-1.0 & 1.0 & -1.0 & 1.0 & -1.0 & 1.0\\\\1.0 & -1.0 & 1.0 & -1.0 & 1.0 & -1.0\\\\-1.0 & 1.0 & -1.0 & 1.0 & -1.0 & 1.0\\end{matrix}\\right]$"
      ],
      "text/plain": [
       "<IPython.core.display.Math object>"
      ]
     },
     "metadata": {},
     "output_type": "display_data"
    }
   ],
   "source": [
    "mat = np.zeros([4,6])\n",
    "\n",
    "for rowi in range(0,4):\n",
    "  for coli in range(0,6):\n",
    "    mat[rowi,coli] = (-1)**(rowi + coli)\n",
    "\n",
    "display(Math(sym.latex(sym.sympify(mat))))"
   ]
  },
  {
   "cell_type": "code",
   "execution_count": 20,
   "metadata": {},
   "outputs": [
    {
     "data": {
      "text/latex": [
       "$\\displaystyle \\left[\\begin{matrix}8.0 & 4.0 & 0.0\\\\10.0 & 5.0 & 0.0\\\\12.0 & 6.0 & 0.0\\end{matrix}\\right]$"
      ],
      "text/plain": [
       "<IPython.core.display.Math object>"
      ]
     },
     "metadata": {},
     "output_type": "display_data"
    }
   ],
   "source": [
    "expr = (4 + x)*(2 - y)\n",
    "mat = np.zeros([3,3])\n",
    "\n",
    "for xi in range(0,3):\n",
    "  for yi in range(0,3):\n",
    "    mat[xi,yi] = expr.subs({x:xi,y:yi})\n",
    "\n",
    "display(Math(sym.latex(sym.sympify(mat))))"
   ]
  },
  {
   "cell_type": "code",
   "execution_count": 25,
   "metadata": {},
   "outputs": [
    {
     "data": {
      "text/latex": [
       "$\\displaystyle \\left[\\begin{matrix}1 & 2 & 3 & 4 & 5 & 6 & 7 & 8 & 9 & 10\\\\2 & 4 & 6 & 8 & 10 & 12 & 14 & 16 & 18 & 20\\\\3 & 6 & 9 & 12 & 15 & 18 & 21 & 24 & 27 & 30\\\\4 & 8 & 12 & 16 & 20 & 24 & 28 & 32 & 36 & 40\\\\5 & 10 & 15 & 20 & 25 & 30 & 35 & 40 & 45 & 50\\\\6 & 12 & 18 & 24 & 30 & 36 & 42 & 48 & 54 & 60\\\\7 & 14 & 21 & 28 & 35 & 42 & 49 & 56 & 63 & 70\\\\8 & 16 & 24 & 32 & 40 & 48 & 56 & 64 & 72 & 80\\\\9 & 18 & 27 & 36 & 45 & 54 & 63 & 72 & 81 & 90\\\\10 & 20 & 30 & 40 & 50 & 60 & 70 & 80 & 90 & 100\\end{matrix}\\right]$"
      ],
      "text/plain": [
       "<IPython.core.display.Math object>"
      ]
     },
     "metadata": {},
     "output_type": "display_data"
    }
   ],
   "source": [
    "num_range = range(0,10)\n",
    "mat = np.zeros([len(num_range),len(num_range)], dtype=int)\n",
    "\n",
    "for row in num_range:\n",
    "  for col in num_range:\n",
    "    mat[row,col] = (row + 1)*(col + 1)\n",
    "\n",
    "display(Math(sym.latex(sym.sympify(mat))))"
   ]
  },
  {
   "cell_type": "code",
   "execution_count": 5,
   "metadata": {},
   "outputs": [
    {
     "data": {
      "text/latex": [
       "$\\displaystyle \\left(y + z\\right) \\left(w \\left(4 - w\\right) + \\frac{w + 1}{w^{2}}\\right) \\left(\\left(w \\left(4 - w\\right) + \\frac{w + 1}{w^{2}}\\right)^{2} + \\frac{3}{w \\left(4 - w\\right) + \\frac{w + 1}{w^{2}}}\\right)$"
      ],
      "text/plain": [
       "<IPython.core.display.Math object>"
      ]
     },
     "metadata": {},
     "output_type": "display_data"
    },
    {
     "data": {
      "text/latex": [
       "$\\displaystyle \\frac{\\left(3 w^{6} + \\left(- w^{3} \\left(w - 4\\right) + w + 1\\right)^{3}\\right) \\left(y + z\\right)}{w^{6}}$"
      ],
      "text/plain": [
       "<IPython.core.display.Math object>"
      ]
     },
     "metadata": {},
     "output_type": "display_data"
    }
   ],
   "source": [
    "x, y, z, w = sym.symbols('x y z w')\n",
    "x = w*(4 - w) + 1/w**2 * (1 + w)\n",
    "f1 = x*(y + z)\n",
    "f2 = 3/x + x**2\n",
    "\n",
    "display(Math(sym.latex(f1 * f2)))\n",
    "display(Math(sym.latex(sym.simplify(f1 * f2))))"
   ]
  },
  {
   "cell_type": "code",
   "execution_count": 26,
   "metadata": {},
   "outputs": [
    {
     "data": {
      "text/latex": [
       "$\\displaystyle x \\left(4 - 6 x\\right) + 3 x \\quad \\Leftrightarrow \\quad - 6 x^{2} + 7 x$"
      ],
      "text/plain": [
       "<IPython.core.display.Math object>"
      ]
     },
     "metadata": {},
     "output_type": "display_data"
    },
    {
     "data": {
      "text/latex": [
       "$\\displaystyle - x \\left(\\frac{2}{x} + \\frac{4}{x^{2}}\\right) + \\frac{x + 4}{4 x} \\quad \\Leftrightarrow \\quad - \\frac{7}{4} - \\frac{3}{x}$"
      ],
      "text/plain": [
       "<IPython.core.display.Math object>"
      ]
     },
     "metadata": {},
     "output_type": "display_data"
    },
    {
     "data": {
      "text/latex": [
       "$\\displaystyle \\frac{\\left(x - 3\\right) \\left(x + 3\\right)}{9} \\quad \\Leftrightarrow \\quad \\frac{x^{2}}{9} - 1$"
      ],
      "text/plain": [
       "<IPython.core.display.Math object>"
      ]
     },
     "metadata": {},
     "output_type": "display_data"
    }
   ],
   "source": [
    "x = sym.symbols('x')\n",
    "e1 = 2*x + x*(4 - 6*x) + x\n",
    "e2 = -x*(2/x + 4/x**2) + (4 + x)/(4*x)\n",
    "e3 = (x + 3) * (x - 3) * x * (1/(9*x))\n",
    "\n",
    "lst = [e1, e2, e3]\n",
    "for equation in lst:\n",
    "  display(Math('%s \\\\quad \\\\Leftrightarrow \\\\quad %s' %(sym.latex(equation), sym.latex(sym.expand(equation)))))"
   ]
  },
  {
   "cell_type": "code",
   "execution_count": 7,
   "metadata": {},
   "outputs": [
    {
     "data": {
      "text/latex": [
       "$\\displaystyle \\frac{16}{88} = \\frac{2 \\times 8}{11 \\times 8}$"
      ],
      "text/plain": [
       "<IPython.core.display.Math object>"
      ]
     },
     "metadata": {},
     "output_type": "display_data"
    }
   ],
   "source": [
    "a = 16\n",
    "b = 88\n",
    "\n",
    "factor = math.gcd(a,b)\n",
    "\n",
    "display(Math('\\\\frac{%g}{%g} = \\\\frac{%g \\\\times %g}{%g \\\\times %g}' %(a,b,a/factor, factor, b/factor, factor)))"
   ]
  },
  {
   "cell_type": "code",
   "execution_count": 17,
   "metadata": {},
   "outputs": [
    {
     "data": {
      "text/latex": [
       "$\\displaystyle c$"
      ],
      "text/plain": [
       "<IPython.core.display.Math object>"
      ]
     },
     "metadata": {},
     "output_type": "display_data"
    },
    {
     "data": {
      "text/latex": [
       "$\\displaystyle c$"
      ],
      "text/plain": [
       "<IPython.core.display.Math object>"
      ]
     },
     "metadata": {},
     "output_type": "display_data"
    },
    {
     "data": {
      "text/latex": [
       "$\\displaystyle 32$"
      ],
      "text/plain": [
       "<IPython.core.display.Math object>"
      ]
     },
     "metadata": {},
     "output_type": "display_data"
    },
    {
     "data": {
      "text/latex": [
       "$\\displaystyle 32$"
      ],
      "text/plain": [
       "<IPython.core.display.Math object>"
      ]
     },
     "metadata": {},
     "output_type": "display_data"
    }
   ],
   "source": [
    "a,b,c = sym.symbols('a b c')\n",
    "gcd_lhs = sym.gcd(c*a,c*b)\n",
    "gcd_rhs = c * sym.gcd(a,b)\n",
    "\n",
    "display(Math(sym.latex(gcd_lhs)))\n",
    "display(Math(sym.latex(gcd_rhs)))\n",
    "\n",
    "a = 16\n",
    "b = 88\n",
    "c = 4\n",
    "\n",
    "gcd_lhs = math.gcd(c*a,c*b)\n",
    "gcd_rhs = c * math.gcd(a,b)\n",
    "\n",
    "display(Math(sym.latex(gcd_lhs)))\n",
    "display(Math(sym.latex(gcd_rhs)))"
   ]
  },
  {
   "cell_type": "code",
   "execution_count": 20,
   "metadata": {},
   "outputs": [
    {
     "data": {
      "text/latex": [
       "$\\displaystyle \\left[\\begin{array}{cccccccccc}1 & 1 & 1 & 1 & 1 & 1 & 1 & 1 & 1 & 1 & 1 & 1 & 1 & 1 & 1\\\\1 & 2 & 1 & 2 & 1 & 2 & 1 & 2 & 1 & 2 & 1 & 2 & 1 & 2 & 1\\\\1 & 1 & 3 & 1 & 1 & 3 & 1 & 1 & 3 & 1 & 1 & 3 & 1 & 1 & 3\\\\1 & 2 & 1 & 4 & 1 & 2 & 1 & 4 & 1 & 2 & 1 & 4 & 1 & 2 & 1\\\\1 & 1 & 1 & 1 & 5 & 1 & 1 & 1 & 1 & 5 & 1 & 1 & 1 & 1 & 5\\\\1 & 2 & 3 & 2 & 1 & 6 & 1 & 2 & 3 & 2 & 1 & 6 & 1 & 2 & 3\\\\1 & 1 & 1 & 1 & 1 & 1 & 7 & 1 & 1 & 1 & 1 & 1 & 1 & 7 & 1\\\\1 & 2 & 1 & 4 & 1 & 2 & 1 & 8 & 1 & 2 & 1 & 4 & 1 & 2 & 1\\\\1 & 1 & 3 & 1 & 1 & 3 & 1 & 1 & 9 & 1 & 1 & 3 & 1 & 1 & 3\\\\1 & 2 & 1 & 2 & 5 & 2 & 1 & 2 & 1 & 10 & 1 & 2 & 1 & 2 & 5\\end{array}\\right]$"
      ],
      "text/plain": [
       "<IPython.core.display.Math object>"
      ]
     },
     "metadata": {},
     "output_type": "display_data"
    }
   ],
   "source": [
    "row_range = range(0,10)\n",
    "col_range = range(0,15)\n",
    "gcd_mat = np.zeros([len(row_range),len(col_range)], dtype=int) + 99\n",
    "\n",
    "for row in row_range:\n",
    "  for col in col_range:\n",
    "    gcd_mat[row,col] = math.gcd(row+1,col+1)\n",
    "\n",
    "display(Math(sym.latex(sym.sympify(gcd_mat))))"
   ]
  },
  {
   "cell_type": "code",
   "execution_count": 37,
   "metadata": {},
   "outputs": [
    {
     "data": {
      "text/plain": [
       "'Equations solving for X:'"
      ]
     },
     "metadata": {},
     "output_type": "display_data"
    },
    {
     "data": {
      "text/latex": [
       "$\\displaystyle \\quad 4 x - 6 = 0 \\quad \\Rightarrow \\quad X = \\left[ \\frac{3}{2}\\right]$"
      ],
      "text/plain": [
       "<IPython.core.display.Math object>"
      ]
     },
     "metadata": {},
     "output_type": "display_data"
    },
    {
     "data": {
      "text/latex": [
       "$\\displaystyle \\quad x^{2} - 9 = 0 \\quad \\Rightarrow \\quad X = \\left[ -3, \\  3\\right]$"
      ],
      "text/plain": [
       "<IPython.core.display.Math object>"
      ]
     },
     "metadata": {},
     "output_type": "display_data"
    },
    {
     "data": {
      "text/plain": [
       "'Equations solving for Y:'"
      ]
     },
     "metadata": {},
     "output_type": "display_data"
    },
    {
     "data": {
      "text/latex": [
       "$\\displaystyle \\quad \\sin{\\left(y \\right)} = 0 \\quad \\Rightarrow \\quad Y = \\left[ 0, \\  \\pi\\right]$"
      ],
      "text/plain": [
       "<IPython.core.display.Math object>"
      ]
     },
     "metadata": {},
     "output_type": "display_data"
    }
   ],
   "source": [
    "x,y = sym.symbols('x y')\n",
    "\n",
    "equations = dict()\n",
    "\n",
    "eq1 = 4*x - 6\n",
    "eq2 = sym.sin(y)\n",
    "eq3 = x**2 - 9\n",
    "\n",
    "equations[x] = [eq1,eq3]\n",
    "equations[y] = [eq2]\n",
    "\n",
    "display('Equations solving for X:')\n",
    "for eq in equations[x]:\n",
    "  display(Math('\\\\quad %s = 0 \\\\quad \\\\Rightarrow \\\\quad X = %s' %(sym.latex(eq), sym.latex(sym.solve(eq)))))\n",
    "\n",
    "display('Equations solving for Y:')\n",
    "for eq in equations[y]:\n",
    "  display(Math('\\\\quad %s = 0 \\\\quad \\\\Rightarrow \\\\quad Y = %s' %(sym.latex(eq), sym.latex(sym.solve(eq)))))\n",
    "  "
   ]
  },
  {
   "cell_type": "code",
   "execution_count": 39,
   "metadata": {},
   "outputs": [
    {
     "name": "stdout",
     "output_type": "stream",
     "text": [
      "Equations solving for X:\n"
     ]
    },
    {
     "data": {
      "text/latex": [
       "$\\displaystyle \\quad 4 x - 6 = 0 \\quad \\Rightarrow \\quad X = \\left[ \\frac{3}{2}\\right]$"
      ],
      "text/plain": [
       "<IPython.core.display.Math object>"
      ]
     },
     "metadata": {},
     "output_type": "display_data"
    },
    {
     "data": {
      "text/latex": [
       "$\\displaystyle \\quad x^{2} - 9 = 0 \\quad \\Rightarrow \\quad X = \\left[ -3, \\  3\\right]$"
      ],
      "text/plain": [
       "<IPython.core.display.Math object>"
      ]
     },
     "metadata": {},
     "output_type": "display_data"
    },
    {
     "name": "stdout",
     "output_type": "stream",
     "text": [
      "Equations solving for Y:\n"
     ]
    },
    {
     "data": {
      "text/latex": [
       "$\\displaystyle \\quad \\sin{\\left(y \\right)} = 0 \\quad \\Rightarrow \\quad Y = \\left[ 0, \\  \\pi\\right]$"
      ],
      "text/plain": [
       "<IPython.core.display.Math object>"
      ]
     },
     "metadata": {},
     "output_type": "display_data"
    }
   ],
   "source": [
    "# Cleaner and more extensible than above:\n",
    "\n",
    "x,y = sym.symbols('x y')\n",
    "\n",
    "equations = dict(X = [4*x - 6, x**2 - 9], Y = [sym.sin(y)])\n",
    "\n",
    "for key in equations:\n",
    "  print('Equations solving for ' + key + ':')\n",
    "\n",
    "  for eq in equations[key]:\n",
    "    display(Math('\\\\quad %s = 0 \\\\quad \\\\Rightarrow \\\\quad %s = %s' %(sym.latex(eq), key, sym.latex(sym.solve(eq)))))"
   ]
  },
  {
   "cell_type": "code",
   "execution_count": 4,
   "metadata": {},
   "outputs": [
    {
     "name": "stdout",
     "output_type": "stream",
     "text": [
      "{2: 1, 5: 1}\n",
      "[2, 5]\n"
     ]
    }
   ],
   "source": [
    "number = 10\n",
    "factors = sym.factorint(number)\n",
    "print(factors)\n",
    "print(list(factors.keys()))"
   ]
  },
  {
   "cell_type": "code",
   "execution_count": 19,
   "metadata": {},
   "outputs": [
    {
     "name": "stdout",
     "output_type": "stream",
     "text": [
      "2 is a prime number\n",
      "3 is a prime number\n",
      "4 is a composite number with prime factors [2]\n",
      "5 is a prime number\n",
      "6 is a composite number with prime factors [2, 3]\n",
      "7 is a prime number\n",
      "8 is a composite number with prime factors [2]\n",
      "9 is a composite number with prime factors [3]\n",
      "10 is a composite number with prime factors [2, 5]\n",
      "11 is a prime number\n",
      "12 is a composite number with prime factors [2, 3]\n",
      "13 is a prime number\n",
      "14 is a composite number with prime factors [2, 7]\n",
      "15 is a composite number with prime factors [3, 5]\n",
      "16 is a composite number with prime factors [2]\n",
      "17 is a prime number\n",
      "18 is a composite number with prime factors [2, 3]\n",
      "19 is a prime number\n",
      "20 is a composite number with prime factors [2, 5]\n",
      "21 is a composite number with prime factors [3, 7]\n",
      "22 is a composite number with prime factors [2, 11]\n",
      "23 is a prime number\n",
      "24 is a composite number with prime factors [2, 3]\n",
      "25 is a composite number with prime factors [5]\n",
      "26 is a composite number with prime factors [2, 13]\n",
      "27 is a composite number with prime factors [3]\n",
      "28 is a composite number with prime factors [2, 7]\n",
      "29 is a prime number\n",
      "30 is a composite number with prime factors [2, 3, 5]\n",
      "31 is a prime number\n",
      "32 is a composite number with prime factors [2]\n",
      "33 is a composite number with prime factors [3, 11]\n",
      "34 is a composite number with prime factors [2, 17]\n",
      "35 is a composite number with prime factors [5, 7]\n",
      "36 is a composite number with prime factors [2, 3]\n",
      "37 is a prime number\n",
      "38 is a composite number with prime factors [2, 19]\n",
      "39 is a composite number with prime factors [3, 13]\n",
      "40 is a composite number with prime factors [2, 5]\n",
      "41 is a prime number\n",
      "42 is a composite number with prime factors [2, 3, 7]\n",
      "43 is a prime number\n",
      "44 is a composite number with prime factors [2, 11]\n",
      "45 is a composite number with prime factors [3, 5]\n",
      "46 is a composite number with prime factors [2, 23]\n",
      "47 is a prime number\n",
      "48 is a composite number with prime factors [2, 3]\n",
      "49 is a composite number with prime factors [7]\n",
      "50 is a composite number with prime factors [2, 5]\n"
     ]
    }
   ],
   "source": [
    "nums = range(2, 51)\n",
    "\n",
    "for num in nums:\n",
    "  factors = sym.factorint(num)\n",
    "  keys = list(factors.keys())\n",
    "  \n",
    "  if len(factors) == 1 and factors[keys[0]] == 1:\n",
    "    print(\"%g is a prime number\" %num)\n",
    "  else:\n",
    "    print(\"%g is a composite number with prime factors %s\" %(num, str(keys)))"
   ]
  },
  {
   "cell_type": "markdown",
   "metadata": {},
   "source": [
    "# Equalities"
   ]
  },
  {
   "cell_type": "code",
   "execution_count": 24,
   "metadata": {},
   "outputs": [
    {
     "data": {
      "text/latex": [
       "$\\displaystyle 2 < x \\wedge x < \\infty$"
      ],
      "text/plain": [
       "(2 < x) & (x < oo)"
      ]
     },
     "metadata": {},
     "output_type": "display_data"
    },
    {
     "data": {
      "text/latex": [
       "$\\displaystyle \\left(-\\infty < x \\wedge x < -3\\right) \\vee \\left(1 < x \\wedge x < \\infty\\right)$"
      ],
      "text/plain": [
       "((-oo < x) & (x < -3)) | ((1 < x) & (x < oo))"
      ]
     },
     "metadata": {},
     "output_type": "display_data"
    }
   ],
   "source": [
    "x = sym.symbols('x')\n",
    "expr = 4*x > 8\n",
    "display(sym.solve(expr))\n",
    "\n",
    "expr2 = (x-1)*(x+3) > 0\n",
    "display(sym.solve(expr2))"
   ]
  },
  {
   "cell_type": "code",
   "execution_count": 33,
   "metadata": {},
   "outputs": [
    {
     "data": {
      "text/latex": [
       "$\\displaystyle \\frac{4}{3} - \\frac{x}{6} \\leq \\frac{5 x}{4} - \\frac{1}{2}$"
      ],
      "text/plain": [
       "<IPython.core.display.Math object>"
      ]
     },
     "metadata": {},
     "output_type": "display_data"
    },
    {
     "data": {
      "text/latex": [
       "$\\displaystyle \\frac{22}{17} \\leq x \\wedge x < \\infty$"
      ],
      "text/plain": [
       "<IPython.core.display.Math object>"
      ]
     },
     "metadata": {},
     "output_type": "display_data"
    }
   ],
   "source": [
    "expr = (3*x / 2) + ((4 - 5*x) / 3) <= 2 - ((5*(2 - x)) / 4)\n",
    "display(Math(sym.latex(expr)))\n",
    "display(Math(sym.latex(sym.solve(expr))))"
   ]
  },
  {
   "cell_type": "markdown",
   "metadata": {},
   "source": [
    "# Polynomials"
   ]
  },
  {
   "cell_type": "code",
   "execution_count": 34,
   "metadata": {},
   "outputs": [
    {
     "data": {
      "text/latex": [
       "$\\displaystyle (2 x^{3} + x^{2} - x) + (- x^{4} + x^{3} - 4 x^{2}) = - x^{4} + 3 x^{3} - 3 x^{2} - x$"
      ],
      "text/plain": [
       "<IPython.core.display.Math object>"
      ]
     },
     "metadata": {},
     "output_type": "display_data"
    }
   ],
   "source": [
    "x = sym.symbols('x')\n",
    "\n",
    "p1 = 2*x**3 + x**2 - x\n",
    "p2 = x**3 - x**4 - 4*x**2\n",
    "\n",
    "display(Math('(%s) + (%s) = %s' %(sym.latex(p1), sym.latex(p2), sym.latex(p1+p2))))"
   ]
  },
  {
   "cell_type": "code",
   "execution_count": 40,
   "metadata": {},
   "outputs": [
    {
     "name": "stdout",
     "output_type": "stream",
     "text": [
      "[2, 1, -1]\n"
     ]
    },
    {
     "data": {
      "text/latex": [
       "$\\displaystyle 18$"
      ],
      "text/plain": [
       "18"
      ]
     },
     "execution_count": 40,
     "metadata": {},
     "output_type": "execute_result"
    }
   ],
   "source": [
    "p1 = sym.Poly(x**2 - x + 2*x**3)\n",
    "print(p1.coeffs())\n",
    "p1.eval(2)"
   ]
  },
  {
   "cell_type": "code",
   "execution_count": 61,
   "metadata": {},
   "outputs": [
    {
     "data": {
      "text/latex": [
       "$\\displaystyle \\text{For equation (}x^{2} + 2 x\\text{), sum of coefficients is }3$"
      ],
      "text/plain": [
       "<IPython.core.display.Math object>"
      ]
     },
     "metadata": {},
     "output_type": "display_data"
    },
    {
     "data": {
      "text/latex": [
       "$\\displaystyle \\text{For equation: (}- x^{3} + 4 x\\text{), count of coefficients is }2$"
      ],
      "text/plain": [
       "<IPython.core.display.Math object>"
      ]
     },
     "metadata": {},
     "output_type": "display_data"
    },
    {
     "data": {
      "text/latex": [
       "$\\displaystyle \\text{For equation: (}x^{5} - x^{4} + \\frac{x}{4} + 4\\text{), count of coefficients is }4$"
      ],
      "text/plain": [
       "<IPython.core.display.Math object>"
      ]
     },
     "metadata": {},
     "output_type": "display_data"
    }
   ],
   "source": [
    "lst = [ x**2 + 2*x, -x**3 + 4*x, x**5 - x**4 + x/4 + 4 ]\n",
    "\n",
    "for eq in lst:\n",
    "  p = sym.Poly(eq)\n",
    "  coeff = p.coeffs()\n",
    "  degree = sym.degree(eq)\n",
    "  if degree % 2 == 0:\n",
    "    display(Math('\\\\text{For equation (}%s\\\\text{), sum of coefficients is }%g' %(sym.latex(p.as_expr()), sum(coeff))))\n",
    "  else:\n",
    "    display(Math('\\\\text{For equation: (}%s\\\\text{), count of coefficients is }%g' %(sym.latex(eq), len(coeff))))\n"
   ]
  },
  {
   "cell_type": "code",
   "execution_count": 63,
   "metadata": {},
   "outputs": [
    {
     "data": {
      "text/latex": [
       "$\\displaystyle \\left(4 x^{2} - 2 x\\right) \\left(x^{3} - 1\\right)$"
      ],
      "text/plain": [
       "<IPython.core.display.Math object>"
      ]
     },
     "metadata": {},
     "output_type": "display_data"
    },
    {
     "data": {
      "text/latex": [
       "$\\displaystyle 4 x^{5} - 2 x^{4} - 4 x^{2} + 2 x$"
      ],
      "text/plain": [
       "<IPython.core.display.Math object>"
      ]
     },
     "metadata": {},
     "output_type": "display_data"
    }
   ],
   "source": [
    "p1 = 4*x**2 - 2*x\n",
    "p2 = x**3 - 1\n",
    "\n",
    "display(Math(sym.latex(p1*p2)))\n",
    "display(Math(sym.latex(sym.expand(p1*p2))))"
   ]
  },
  {
   "cell_type": "code",
   "execution_count": 29,
   "metadata": {},
   "outputs": [
    {
     "data": {
      "text/latex": [
       "$\\displaystyle \\left(- x^{3} + 6 x^{2} y + 0.8 y^{3}\\right) \\left(4 x^{4} - 3 x^{2} + x y^{2} - 9 y^{3}\\right)$"
      ],
      "text/plain": [
       "<IPython.core.display.Math object>"
      ]
     },
     "metadata": {},
     "output_type": "display_data"
    },
    {
     "data": {
      "text/latex": [
       "$\\displaystyle - 4 x^{7} + 24 x^{6} y + 3 x^{5} + 3.2 x^{4} y^{3} - x^{4} y^{2} - 18 x^{4} y + 15 x^{3} y^{3} - 54 x^{2} y^{4} - 2.4 x^{2} y^{3} + 0.8 x y^{5} - 7.2 y^{6}$"
      ],
      "text/plain": [
       "<IPython.core.display.Math object>"
      ]
     },
     "metadata": {},
     "output_type": "display_data"
    },
    {
     "data": {
      "text/latex": [
       "$\\displaystyle -1085833.80000000 \\text{ should be equal to }-1085833.80000000$"
      ],
      "text/plain": [
       "<IPython.core.display.Math object>"
      ]
     },
     "metadata": {},
     "output_type": "display_data"
    }
   ],
   "source": [
    "x,y = sym.symbols('x y')\n",
    "\n",
    "f = 4*x**4 - 3*x**2 + x*y**2 - 9*y**3\n",
    "g = -x**3 + 6*x**2*y + .8*y**3\n",
    "\n",
    "fg = f*g\n",
    "\n",
    "display(Math(sym.latex(fg)))\n",
    "display(Math(sym.latex(sym.expand(fg))))\n",
    "\n",
    "xval = 5\n",
    "yval = -2\n",
    "\n",
    "display(Math('%s \\\\text{ should be equal to }%s' %(fg.subs({x:xval,y:yval}), f.subs({x:xval,y:yval}) * g.subs({x:xval,y:yval}))))\n",
    "# f.subs()"
   ]
  },
  {
   "cell_type": "code",
   "execution_count": 33,
   "metadata": {},
   "outputs": [
    {
     "data": {
      "text/latex": [
       "$\\displaystyle \\frac{4 x^{5} - x}{2 x^{3} - x} = \\frac{4 x^{5} - x}{2 x^{3} - x}$"
      ],
      "text/plain": [
       "<IPython.core.display.Math object>"
      ]
     },
     "metadata": {},
     "output_type": "display_data"
    },
    {
     "data": {
      "text/latex": [
       "$\\displaystyle \\frac{4 x^{5} - x}{2 x^{3} - x} = \\frac{4 x^{5}}{2 x^{3} - x} - \\frac{x}{2 x^{3} - x}$"
      ],
      "text/plain": [
       "<IPython.core.display.Math object>"
      ]
     },
     "metadata": {},
     "output_type": "display_data"
    },
    {
     "data": {
      "text/latex": [
       "$\\displaystyle \\frac{4 x^{5} - x}{2 x^{3} - x} = 2 x^{2} + 1$"
      ],
      "text/plain": [
       "<IPython.core.display.Math object>"
      ]
     },
     "metadata": {},
     "output_type": "display_data"
    }
   ],
   "source": [
    "p1 = 4*x**5 - x\n",
    "p2 = 2*x**3 - x\n",
    "\n",
    "display(Math('\\\\frac{%s}{%s} = %s' %(sym.latex(p1), sym.latex(p2), sym.latex(p1/p2))))\n",
    "display(Math('\\\\frac{%s}{%s} = %s' %(sym.latex(p1), sym.latex(p2), sym.latex(sym.expand(p1/p2)))))\n",
    "display(Math('\\\\frac{%s}{%s} = %s' %(sym.latex(p1), sym.latex(p2), sym.latex(sym.simplify(p1/p2)))))\n"
   ]
  },
  {
   "cell_type": "code",
   "execution_count": 55,
   "metadata": {},
   "outputs": [
    {
     "name": "stdout",
     "output_type": "stream",
     "text": [
      "(3, 4)\n"
     ]
    }
   ],
   "source": [
    "f = sym.sympify(3)/4\n",
    "finfo = sym.fraction(f)\n",
    "print(finfo)"
   ]
  },
  {
   "cell_type": "code",
   "execution_count": 65,
   "metadata": {},
   "outputs": [
    {
     "data": {
      "text/latex": [
       "$\\displaystyle \\text{When Y = }9 \\text { then we eliminate the denominator with result }x^{3} + 2 x - 3$"
      ],
      "text/plain": [
       "<IPython.core.display.Math object>"
      ]
     },
     "metadata": {},
     "output_type": "display_data"
    }
   ],
   "source": [
    "func = (x**6 + 2*x**4 + 6*x - y) / (x**3 + 3)\n",
    "nums = range(5,16)\n",
    "\n",
    "for num in nums:\n",
    "  simplified = sym.simplify(func.subs(y,num))\n",
    "  frac = sym.fraction(simplified)\n",
    "  if frac[1] == 1:\n",
    "    display(Math('\\\\text{When Y = }%g \\\\text { then we eliminate the denominator with result }%s' %(num, sym.latex(sym.sympify(frac[0])))))"
   ]
  },
  {
   "cell_type": "code",
   "execution_count": 70,
   "metadata": {},
   "outputs": [
    {
     "data": {
      "text/latex": [
       "$\\displaystyle 2 x \\left(x^{2} y + x y + 2 x - 3 y + 3\\right)$"
      ],
      "text/plain": [
       "2*x*(x**2*y + x*y + 2*x - 3*y + 3)"
      ]
     },
     "execution_count": 70,
     "metadata": {},
     "output_type": "execute_result"
    }
   ],
   "source": [
    "x,y = sym.symbols('x y')\n",
    "\n",
    "expr = 2*x**3*y - 2*x**2 + 2*x**2*y + 6*x**2 - 6*x*y + 6*x\n",
    "sym.factor(expr)"
   ]
  },
  {
   "cell_type": "code",
   "execution_count": 78,
   "metadata": {},
   "outputs": [
    {
     "data": {
      "text/latex": [
       "$\\displaystyle x^{2} + 4 x + 3 \\quad \\Rightarrow \\quad \\left(x + 1\\right) \\left(x + 3\\right)$"
      ],
      "text/plain": [
       "<IPython.core.display.Math object>"
      ]
     },
     "metadata": {},
     "output_type": "display_data"
    },
    {
     "data": {
      "text/latex": [
       "$\\displaystyle 2 y^{2} - 1 \\quad \\Rightarrow \\quad \\text{not factorable!}$"
      ],
      "text/plain": [
       "<IPython.core.display.Math object>"
      ]
     },
     "metadata": {},
     "output_type": "display_data"
    },
    {
     "data": {
      "text/latex": [
       "$\\displaystyle 3 y^{2} + 12 y \\quad \\Rightarrow \\quad 3 y \\left(y + 4\\right)$"
      ],
      "text/plain": [
       "<IPython.core.display.Math object>"
      ]
     },
     "metadata": {},
     "output_type": "display_data"
    }
   ],
   "source": [
    "equations = [x**2 + 4*x + 3, 2*y**2 - 1, 3*y**2 + 12*y]\n",
    "\n",
    "for eq in equations:\n",
    "  result = sym.factor(eq)\n",
    "  str_result = str(result)\n",
    "  if str_result.find('(') != -1:\n",
    "    display(Math('%s \\\\quad \\\\Rightarrow \\\\quad %s' %(sym.latex(eq), sym.latex(result))))\n",
    "  else:\n",
    "    display(Math('%s \\\\quad \\\\Rightarrow \\\\quad \\\\text{not factorable!}' %(sym.latex(eq))))\n",
    "    "
   ]
  }
 ],
 "metadata": {
  "kernelspec": {
   "display_name": ".venv",
   "language": "python",
   "name": "python3"
  },
  "language_info": {
   "codemirror_mode": {
    "name": "ipython",
    "version": 3
   },
   "file_extension": ".py",
   "mimetype": "text/x-python",
   "name": "python",
   "nbconvert_exporter": "python",
   "pygments_lexer": "ipython3",
   "version": "3.11.0"
  }
 },
 "nbformat": 4,
 "nbformat_minor": 2
}
